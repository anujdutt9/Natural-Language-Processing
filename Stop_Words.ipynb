{
 "cells": [
  {
   "cell_type": "code",
   "execution_count": 1,
   "metadata": {
    "collapsed": false
   },
   "outputs": [
    {
     "name": "stdout",
     "output_type": "stream",
     "text": [
      "English Stop Words:  {'o', 'not', 'yourself', 'that', 'to', 'was', 'in', 'will', 'this', 'the', 'while', 'there', 'no', 'couldn', 'what', 'been', 'they', 'how', 'doesn', 'on', 'out', 'itself', 'again', 'other', 'but', 'hadn', 'me', 'as', 'were', 'hers', 'don', 'aren', 'll', 'won', 'had', 'does', 'for', 'am', 'be', 're', 'after', 'all', 'nor', 'why', 'where', 'more', 'having', 'their', 'we', 'when', 'through', 'some', 'own', 'you', 'yours', 'then', 'shan', 'whom', 'myself', 'up', 'about', 'these', 'him', 'each', 'm', 'i', 'here', 'doing', 'its', 'our', 'ma', 'are', 'has', 'both', 'shouldn', 'into', 'with', 'which', 'above', 'her', 'too', 'your', 'wasn', 'his', 'can', 'down', 've', 'should', 'them', 'do', 'now', 'and', 'until', 'against', 'a', 'themselves', 'off', 'at', 'my', 'it', 'such', 'being', 'just', 'so', 'himself', 'yourselves', 'same', 'haven', 'who', 'those', 't', 'of', 'only', 'd', 'isn', 'mightn', 'he', 'any', 'did', 'because', 'by', 'if', 'hasn', 'ourselves', 'an', 'have', 'before', 'once', 'than', 'didn', 'few', 'most', 'very', 'herself', 'ain', 'below', 'y', 'is', 'over', 'wouldn', 'from', 'weren', 'theirs', 'or', 'needn', 'further', 'ours', 'mustn', 'during', 'she', 's', 'between', 'under'}\n",
      "\n",
      "\n",
      "['This', 'example', 'show', 'stop', 'words', 'used', 'NLP', '!', '!', 'Hope', 'like', '.']\n",
      "\n",
      "\n",
      "['This', 'example', 'show', 'stop', 'words', 'used', 'NLP', '!', '!', 'Hope', 'like', '.']\n"
     ]
    }
   ],
   "source": [
    "# Stop Words: Words that are of little value in the sentence and \n",
    "# removing which still keeps the meaning of the sentence intact.\n",
    "\n",
    "from nltk.corpus import stopwords\n",
    "from nltk.tokenize import word_tokenize\n",
    "\n",
    "text = \"This is an example to show that how stop words is used in NLP!! Hope you like it.\"\n",
    "\n",
    "words = word_tokenize(text)\n",
    "stop_words = set(stopwords.words(\"english\"))\n",
    "\n",
    "print('English Stop Words: ',stop_words)\n",
    "print('\\n')\n",
    "\n",
    "new_sent = []\n",
    "\n",
    "for word in words:\n",
    "    if word not in stop_words:\n",
    "        new_sent.append(word)\n",
    "print(new_sent)\n",
    "\n",
    "print('\\n')\n",
    "\n",
    "arr = [word for word in words if word not in stop_words]\n",
    "print(arr)\n"
   ]
  },
  {
   "cell_type": "code",
   "execution_count": null,
   "metadata": {
    "collapsed": true
   },
   "outputs": [],
   "source": []
  }
 ],
 "metadata": {
  "kernelspec": {
   "display_name": "Python 3",
   "language": "python",
   "name": "python3"
  },
  "language_info": {
   "codemirror_mode": {
    "name": "ipython",
    "version": 3
   },
   "file_extension": ".py",
   "mimetype": "text/x-python",
   "name": "python",
   "nbconvert_exporter": "python",
   "pygments_lexer": "ipython3",
   "version": "3.5.2"
  }
 },
 "nbformat": 4,
 "nbformat_minor": 1
}
