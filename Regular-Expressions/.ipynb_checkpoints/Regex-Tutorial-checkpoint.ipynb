{
 "cells": [
  {
   "cell_type": "markdown",
   "metadata": {},
   "source": [
    "## Finding Patterns in Text"
   ]
  },
  {
   "cell_type": "code",
   "execution_count": 1,
   "metadata": {},
   "outputs": [],
   "source": [
    "# Import Dependenices\n",
    "import os\n",
    "import re"
   ]
  },
  {
   "cell_type": "code",
   "execution_count": 2,
   "metadata": {},
   "outputs": [],
   "source": [
    "# Random Sentence\n",
    "sent = 'Hello World 2018.'"
   ]
  },
  {
   "cell_type": "markdown",
   "metadata": {},
   "source": [
    "### re.match()"
   ]
  },
  {
   "cell_type": "code",
   "execution_count": 3,
   "metadata": {},
   "outputs": [
    {
     "data": {
      "text/plain": [
       "<_sre.SRE_Match object; span=(0, 17), match='Hello World 2018.'>"
      ]
     },
     "execution_count": 3,
     "metadata": {},
     "output_type": "execute_result"
    }
   ],
   "source": [
    "# Print sequence of length \"zero or more\" characters from sentence\n",
    "re.match(r'.*',sent)"
   ]
  },
  {
   "cell_type": "code",
   "execution_count": 4,
   "metadata": {},
   "outputs": [
    {
     "data": {
      "text/plain": [
       "<_sre.SRE_Match object; span=(0, 17), match='Hello World 2018.'>"
      ]
     },
     "execution_count": 4,
     "metadata": {},
     "output_type": "execute_result"
    }
   ],
   "source": [
    "# Print sequence of length \"one or more\" characters from sentence\n",
    "re.match(r'.+',sent)"
   ]
  },
  {
   "cell_type": "code",
   "execution_count": 5,
   "metadata": {},
   "outputs": [
    {
     "data": {
      "text/plain": [
       "<_sre.SRE_Match object; span=(0, 5), match='Hello'>"
      ]
     },
     "execution_count": 5,
     "metadata": {},
     "output_type": "execute_result"
    }
   ],
   "source": [
    "# Just match the word characters and not digits\n",
    "# Returns just the first word as there is a space after the first word and space is not a word/character\n",
    "re.match(r'[a-zA-Z]+',sent)"
   ]
  },
  {
   "cell_type": "code",
   "execution_count": 6,
   "metadata": {},
   "outputs": [
    {
     "data": {
      "text/plain": [
       "<_sre.SRE_Match object; span=(0, 2), match='ab'>"
      ]
     },
     "execution_count": 6,
     "metadata": {},
     "output_type": "execute_result"
    }
   ],
   "source": [
    "# Search for an \"a\" and after that a \"zero or exactly one \"b\"\"\n",
    "s = \"abb\"\n",
    "re.match(r'ab?', s)"
   ]
  },
  {
   "cell_type": "markdown",
   "metadata": {},
   "source": [
    "### re.search()"
   ]
  },
  {
   "cell_type": "code",
   "execution_count": 7,
   "metadata": {},
   "outputs": [],
   "source": [
    "# Match does a local search and Search does a global search\n",
    "sent = '1992 was the year I was born.'\n",
    "re.match(r'[a-zA-Z]+',sent)"
   ]
  },
  {
   "cell_type": "code",
   "execution_count": 8,
   "metadata": {},
   "outputs": [
    {
     "data": {
      "text/plain": [
       "<_sre.SRE_Match object; span=(5, 8), match='was'>"
      ]
     },
     "execution_count": 8,
     "metadata": {},
     "output_type": "execute_result"
    }
   ],
   "source": [
    "re.search(r'[a-zA-Z]+',sent)"
   ]
  },
  {
   "cell_type": "code",
   "execution_count": 9,
   "metadata": {},
   "outputs": [
    {
     "name": "stdout",
     "output_type": "stream",
     "text": [
      "matched\n"
     ]
    }
   ],
   "source": [
    "# Check if sentence starts with a specific pattern\n",
    "if (re.match(r'^1992',sent)):\n",
    "    print('matched')\n",
    "else:\n",
    "    print('not matched')"
   ]
  },
  {
   "cell_type": "code",
   "execution_count": 10,
   "metadata": {},
   "outputs": [
    {
     "name": "stdout",
     "output_type": "stream",
     "text": [
      "not matched\n"
     ]
    }
   ],
   "source": [
    "# Check if sentence starts with a specific pattern\n",
    "if (re.match(r'^I',sent)):\n",
    "    print('matched')\n",
    "else:\n",
    "    print('not matched')"
   ]
  },
  {
   "cell_type": "code",
   "execution_count": 11,
   "metadata": {},
   "outputs": [
    {
     "name": "stdout",
     "output_type": "stream",
     "text": [
      "matched\n"
     ]
    }
   ],
   "source": [
    "# Check if sentence ends with a specific pattern\n",
    "# format: 'string$'\n",
    "if (re.search(r'born.$',sent)):\n",
    "    print('matched')\n",
    "else:\n",
    "    print('not matched')"
   ]
  },
  {
   "cell_type": "code",
   "execution_count": 12,
   "metadata": {},
   "outputs": [
    {
     "name": "stdout",
     "output_type": "stream",
     "text": [
      "not matched\n"
     ]
    }
   ],
   "source": [
    "# Check if sentence ends with a specific pattern\n",
    "# format: 'string$'\n",
    "if (re.search(r'year$',sent)):\n",
    "    print('matched')\n",
    "else:\n",
    "    print('not matched')"
   ]
  },
  {
   "cell_type": "markdown",
   "metadata": {},
   "source": [
    "## Substituting Patterns in Text"
   ]
  },
  {
   "cell_type": "code",
   "execution_count": 13,
   "metadata": {},
   "outputs": [],
   "source": [
    "sent = 'I like the movie Armageddon'"
   ]
  },
  {
   "cell_type": "code",
   "execution_count": 14,
   "metadata": {},
   "outputs": [
    {
     "name": "stdout",
     "output_type": "stream",
     "text": [
      "I like the movie Top Gun\n"
     ]
    }
   ],
   "source": [
    "# Substitute words in string\n",
    "# 'sub' does global search and global replace\n",
    "print(re.sub('Armageddon','Top Gun',sent))"
   ]
  },
  {
   "cell_type": "code",
   "execution_count": 15,
   "metadata": {},
   "outputs": [
    {
     "name": "stdout",
     "output_type": "stream",
     "text": [
      "9 9999 999 99999 9999999999\n"
     ]
    }
   ],
   "source": [
    "# Substitute all characters in words by a number\n",
    "print(re.sub(r'[a-zA-Z]', '9', sent))"
   ]
  },
  {
   "cell_type": "code",
   "execution_count": 16,
   "metadata": {},
   "outputs": [
    {
     "name": "stdout",
     "output_type": "stream",
     "text": [
      "9 9999 999 99999 9999999999\n"
     ]
    }
   ],
   "source": [
    "# Substitute all characters in words by a number\n",
    "# 're.I': flag meaning case insensitive for characters\n",
    "print(re.sub(r'[a-z]', '9', sent, flags=re.I))"
   ]
  },
  {
   "cell_type": "code",
   "execution_count": 17,
   "metadata": {},
   "outputs": [
    {
     "name": "stdout",
     "output_type": "stream",
     "text": [
      "9 like the movie Armageddon\n"
     ]
    }
   ],
   "source": [
    "# Substitute all characters in words by a number\n",
    "# 're.I': flag meaning case insensitive for characters\n",
    "# 'count': Tells that how many characters to substitute\n",
    "print(re.sub(r'[a-z]', '9', sent, count=1, flags=re.I))"
   ]
  },
  {
   "cell_type": "code",
   "execution_count": 18,
   "metadata": {},
   "outputs": [
    {
     "name": "stdout",
     "output_type": "stream",
     "text": [
      "9 9999 the movie Armageddon\n"
     ]
    }
   ],
   "source": [
    "# Substitute all characters in words by a number\n",
    "# 're.I': flag meaning case insensitive for characters\n",
    "# 'count': Tells that how many characters to substitute\n",
    "print(re.sub(r'[a-z]', '9', sent, count=5, flags=re.I))"
   ]
  },
  {
   "cell_type": "markdown",
   "metadata": {},
   "source": [
    "## Shorthand Character Class"
   ]
  },
  {
   "cell_type": "code",
   "execution_count": 19,
   "metadata": {},
   "outputs": [],
   "source": [
    "sent1 = 'Hello World 2018'\n",
    "sent2 = 'I               love         you         :D'\n",
    "sent3 = \"Just ~% +++---------- arrived at Jim's place. #having_fun\""
   ]
  },
  {
   "cell_type": "code",
   "execution_count": 20,
   "metadata": {},
   "outputs": [
    {
     "name": "stdout",
     "output_type": "stream",
     "text": [
      "Hello World \n",
      "I love you :D\n",
      "I hate you         :D\n",
      "Just   arrived at Jim's place having_fun\n",
      "     ~% +++----------               '       . #          \n",
      "Just                  arrived at Jim s place   having_fun\n",
      "Just arrived at Jim s place having_fun\n",
      "Just arrived at Jim place having_fun\n"
     ]
    }
   ],
   "source": [
    "# Remove all digits from sentence\n",
    "sent1_mod = re.sub(r'\\d','',sent1)\n",
    "print(sent1_mod)\n",
    "\n",
    "# \\s+ : Remove sequence of one or more spaces with a single space \n",
    "sent2_mod = re.sub(r'\\s+',' ',sent2)\n",
    "print(sent2_mod)\n",
    "\n",
    "sent2_mod = re.sub(r'\\s+love\\s+',' hate ',sent2)\n",
    "print(sent2_mod)\n",
    "\n",
    "# If sentence has any of these, remove it from string\n",
    "sent3_mod = re.sub(r'[~%+-\\.#]','',sent3)\n",
    "print(sent3_mod)\n",
    "\n",
    "# \\w: word class\n",
    "sent3_mod = re.sub(r'\\w',' ',sent3)\n",
    "print(sent3_mod)\n",
    "\n",
    "# \\w: word class\n",
    "sent3_mod = re.sub(r'\\W',' ',sent3)\n",
    "print(sent3_mod)\n",
    "\n",
    "sent3_mod = re.sub(r'\\s+',' ',sent3_mod)\n",
    "print(sent3_mod)\n",
    "\n",
    "sent3_mod = re.sub(r'\\s+[a-zA-Z]\\s+',' ',sent3_mod)\n",
    "print(sent3_mod)"
   ]
  },
  {
   "cell_type": "markdown",
   "metadata": {},
   "source": [
    "## Preprocessing using Regex"
   ]
  },
  {
   "cell_type": "code",
   "execution_count": 21,
   "metadata": {},
   "outputs": [],
   "source": [
    "X = ['This is a wolf #Scary',\n",
    "    'Welcome to the jungle #missing-people',\n",
    "    '11334532 the number to remember',\n",
    "    'Remember the name Bond, James Bond',\n",
    "    'I            love             you']"
   ]
  },
  {
   "cell_type": "code",
   "execution_count": 22,
   "metadata": {},
   "outputs": [],
   "source": [
    "for i in range(len(X)):\n",
    "    # Remove non word characters\n",
    "    X[i] = re.sub(r'\\W',' ',X[i])\n",
    "    # Remove all digits\n",
    "    X[i] = re.sub(r'\\d',' ',X[i])\n",
    "    # Remove single characters\n",
    "    X[i] = re.sub(r'\\s+[a-z]\\s+', ' ', X[i], flags=re.I)\n",
    "    # Remove extra spaces\n",
    "    X[i] = re.sub(r'\\s+', ' ',X[i])\n",
    "    # Remove space at start of sentence\n",
    "    X[i] = re.sub(r'^\\s+','',X[i])\n",
    "    # Remove space at end of sentence\n",
    "    X[i] = re.sub(r'\\s$','',X[i])"
   ]
  },
  {
   "cell_type": "code",
   "execution_count": 23,
   "metadata": {},
   "outputs": [
    {
     "name": "stdout",
     "output_type": "stream",
     "text": [
      "['This is wolf Scary', 'Welcome to the jungle missing people', 'the number to remember', 'Remember the name Bond James Bond', 'I love you']\n"
     ]
    }
   ],
   "source": [
    "print(X)"
   ]
  }
 ],
 "metadata": {
  "kernelspec": {
   "display_name": "Python 3",
   "language": "python",
   "name": "python3"
  },
  "language_info": {
   "codemirror_mode": {
    "name": "ipython",
    "version": 3
   },
   "file_extension": ".py",
   "mimetype": "text/x-python",
   "name": "python",
   "nbconvert_exporter": "python",
   "pygments_lexer": "ipython3",
   "version": "3.6.5"
  }
 },
 "nbformat": 4,
 "nbformat_minor": 2
}
