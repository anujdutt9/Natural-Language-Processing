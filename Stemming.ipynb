{
 "cells": [
  {
   "cell_type": "code",
   "execution_count": 1,
   "metadata": {
    "collapsed": false
   },
   "outputs": [
    {
     "name": "stdout",
     "output_type": "stream",
     "text": [
      "He\n",
      "went\n",
      "for\n",
      "a\n",
      "ride\n",
      "with\n",
      "hi\n",
      "parent\n",
      ".\n",
      "Hi\n",
      "father\n",
      "is\n",
      "a\n",
      "rider\n",
      "and\n",
      "ha\n",
      "ridden\n",
      "mani\n",
      "hors\n",
      ".\n",
      "She\n",
      "ha\n",
      "been\n",
      "ride\n",
      "for\n",
      "past\n",
      "three\n",
      "year\n",
      "now\n",
      ".\n"
     ]
    }
   ],
   "source": [
    "# Stemming: Taking the root stem word out of the word in a sentence.\n",
    "# Famous Algorithm: Porter Stemmer\n",
    "# example: walking -> walk; sing -> sing\n",
    "\n",
    "from nltk.stem import PorterStemmer\n",
    "from nltk.tokenize import word_tokenize\n",
    "\n",
    "port_stem = PorterStemmer()\n",
    "\n",
    "#text = [\"ride\",\"rider\",\"riding\",\"ridden\"]\n",
    "text = \"He went for a ride with his parents. His father is a rider and has ridden many horses. She has been riding for past three years now.\"\n",
    "\n",
    "words = word_tokenize(text)\n",
    "\n",
    "for word in words:\n",
    "    print(port_stem.stem(word))\n",
    "    \n"
   ]
  },
  {
   "cell_type": "code",
   "execution_count": null,
   "metadata": {
    "collapsed": true
   },
   "outputs": [],
   "source": []
  }
 ],
 "metadata": {
  "kernelspec": {
   "display_name": "Python 3",
   "language": "python",
   "name": "python3"
  },
  "language_info": {
   "codemirror_mode": {
    "name": "ipython",
    "version": 3
   },
   "file_extension": ".py",
   "mimetype": "text/x-python",
   "name": "python",
   "nbconvert_exporter": "python",
   "pygments_lexer": "ipython3",
   "version": "3.5.2"
  }
 },
 "nbformat": 4,
 "nbformat_minor": 1
}
