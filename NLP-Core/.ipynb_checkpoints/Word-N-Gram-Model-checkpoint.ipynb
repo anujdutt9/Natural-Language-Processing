{
 "cells": [
  {
   "cell_type": "code",
   "execution_count": 1,
   "metadata": {},
   "outputs": [],
   "source": [
    "# Import Dependencies\n",
    "import random\n",
    "import re\n",
    "import numpy as np\n",
    "import nltk"
   ]
  },
  {
   "cell_type": "code",
   "execution_count": 2,
   "metadata": {},
   "outputs": [],
   "source": [
    "text = \"\"\"Global warming, also referred to as climate change, is the observed century-scale rise in the average temperature of the Earth's climate system and its related effects. Multiple lines of scientific evidence show that the climate system is warming. Many of the observed changes since the 1950s are unprecedented in the instrumental temperature record, which extends back to the mid-19th century, and in paleoclimate proxy records of climate change over thousands of years.\"\"\""
   ]
  },
  {
   "cell_type": "code",
   "execution_count": 3,
   "metadata": {},
   "outputs": [],
   "source": [
    "# N-Gram Model\n",
    "n = 3"
   ]
  },
  {
   "cell_type": "code",
   "execution_count": 4,
   "metadata": {},
   "outputs": [],
   "source": [
    "ngrams = {}"
   ]
  },
  {
   "cell_type": "code",
   "execution_count": 5,
   "metadata": {},
   "outputs": [],
   "source": [
    "words = nltk.word_tokenize(text)"
   ]
  },
  {
   "cell_type": "code",
   "execution_count": 6,
   "metadata": {},
   "outputs": [
    {
     "data": {
      "text/plain": [
       "['Global',\n",
       " 'warming',\n",
       " ',',\n",
       " 'also',\n",
       " 'referred',\n",
       " 'to',\n",
       " 'as',\n",
       " 'climate',\n",
       " 'change',\n",
       " ',',\n",
       " 'is',\n",
       " 'the',\n",
       " 'observed',\n",
       " 'century-scale',\n",
       " 'rise',\n",
       " 'in',\n",
       " 'the',\n",
       " 'average',\n",
       " 'temperature',\n",
       " 'of',\n",
       " 'the',\n",
       " 'Earth',\n",
       " \"'s\",\n",
       " 'climate',\n",
       " 'system',\n",
       " 'and',\n",
       " 'its',\n",
       " 'related',\n",
       " 'effects',\n",
       " '.',\n",
       " 'Multiple',\n",
       " 'lines',\n",
       " 'of',\n",
       " 'scientific',\n",
       " 'evidence',\n",
       " 'show',\n",
       " 'that',\n",
       " 'the',\n",
       " 'climate',\n",
       " 'system',\n",
       " 'is',\n",
       " 'warming',\n",
       " '.',\n",
       " 'Many',\n",
       " 'of',\n",
       " 'the',\n",
       " 'observed',\n",
       " 'changes',\n",
       " 'since',\n",
       " 'the',\n",
       " '1950s',\n",
       " 'are',\n",
       " 'unprecedented',\n",
       " 'in',\n",
       " 'the',\n",
       " 'instrumental',\n",
       " 'temperature',\n",
       " 'record',\n",
       " ',',\n",
       " 'which',\n",
       " 'extends',\n",
       " 'back',\n",
       " 'to',\n",
       " 'the',\n",
       " 'mid-19th',\n",
       " 'century',\n",
       " ',',\n",
       " 'and',\n",
       " 'in',\n",
       " 'paleoclimate',\n",
       " 'proxy',\n",
       " 'records',\n",
       " 'of',\n",
       " 'climate',\n",
       " 'change',\n",
       " 'over',\n",
       " 'thousands',\n",
       " 'of',\n",
       " 'years',\n",
       " '.']"
      ]
     },
     "execution_count": 6,
     "metadata": {},
     "output_type": "execute_result"
    }
   ],
   "source": [
    "words"
   ]
  },
  {
   "cell_type": "code",
   "execution_count": 7,
   "metadata": {},
   "outputs": [],
   "source": [
    "for i in range(len(words)-n):\n",
    "    gram = ' '.join(words[i:i+n])\n",
    "    if gram not in ngrams.keys():\n",
    "        ngrams[gram] = []\n",
    "    ngrams[gram].append(words[i+n])"
   ]
  },
  {
   "cell_type": "code",
   "execution_count": 8,
   "metadata": {},
   "outputs": [
    {
     "data": {
      "text/plain": [
       "{'Global warming ,': ['also'],\n",
       " 'warming , also': ['referred'],\n",
       " ', also referred': ['to'],\n",
       " 'also referred to': ['as'],\n",
       " 'referred to as': ['climate'],\n",
       " 'to as climate': ['change'],\n",
       " 'as climate change': [','],\n",
       " 'climate change ,': ['is'],\n",
       " 'change , is': ['the'],\n",
       " ', is the': ['observed'],\n",
       " 'is the observed': ['century-scale'],\n",
       " 'the observed century-scale': ['rise'],\n",
       " 'observed century-scale rise': ['in'],\n",
       " 'century-scale rise in': ['the'],\n",
       " 'rise in the': ['average'],\n",
       " 'in the average': ['temperature'],\n",
       " 'the average temperature': ['of'],\n",
       " 'average temperature of': ['the'],\n",
       " 'temperature of the': ['Earth'],\n",
       " 'of the Earth': [\"'s\"],\n",
       " \"the Earth 's\": ['climate'],\n",
       " \"Earth 's climate\": ['system'],\n",
       " \"'s climate system\": ['and'],\n",
       " 'climate system and': ['its'],\n",
       " 'system and its': ['related'],\n",
       " 'and its related': ['effects'],\n",
       " 'its related effects': ['.'],\n",
       " 'related effects .': ['Multiple'],\n",
       " 'effects . Multiple': ['lines'],\n",
       " '. Multiple lines': ['of'],\n",
       " 'Multiple lines of': ['scientific'],\n",
       " 'lines of scientific': ['evidence'],\n",
       " 'of scientific evidence': ['show'],\n",
       " 'scientific evidence show': ['that'],\n",
       " 'evidence show that': ['the'],\n",
       " 'show that the': ['climate'],\n",
       " 'that the climate': ['system'],\n",
       " 'the climate system': ['is'],\n",
       " 'climate system is': ['warming'],\n",
       " 'system is warming': ['.'],\n",
       " 'is warming .': ['Many'],\n",
       " 'warming . Many': ['of'],\n",
       " '. Many of': ['the'],\n",
       " 'Many of the': ['observed'],\n",
       " 'of the observed': ['changes'],\n",
       " 'the observed changes': ['since'],\n",
       " 'observed changes since': ['the'],\n",
       " 'changes since the': ['1950s'],\n",
       " 'since the 1950s': ['are'],\n",
       " 'the 1950s are': ['unprecedented'],\n",
       " '1950s are unprecedented': ['in'],\n",
       " 'are unprecedented in': ['the'],\n",
       " 'unprecedented in the': ['instrumental'],\n",
       " 'in the instrumental': ['temperature'],\n",
       " 'the instrumental temperature': ['record'],\n",
       " 'instrumental temperature record': [','],\n",
       " 'temperature record ,': ['which'],\n",
       " 'record , which': ['extends'],\n",
       " ', which extends': ['back'],\n",
       " 'which extends back': ['to'],\n",
       " 'extends back to': ['the'],\n",
       " 'back to the': ['mid-19th'],\n",
       " 'to the mid-19th': ['century'],\n",
       " 'the mid-19th century': [','],\n",
       " 'mid-19th century ,': ['and'],\n",
       " 'century , and': ['in'],\n",
       " ', and in': ['paleoclimate'],\n",
       " 'and in paleoclimate': ['proxy'],\n",
       " 'in paleoclimate proxy': ['records'],\n",
       " 'paleoclimate proxy records': ['of'],\n",
       " 'proxy records of': ['climate'],\n",
       " 'records of climate': ['change'],\n",
       " 'of climate change': ['over'],\n",
       " 'climate change over': ['thousands'],\n",
       " 'change over thousands': ['of'],\n",
       " 'over thousands of': ['years'],\n",
       " 'thousands of years': ['.']}"
      ]
     },
     "execution_count": 8,
     "metadata": {},
     "output_type": "execute_result"
    }
   ],
   "source": [
    "ngrams"
   ]
  },
  {
   "cell_type": "code",
   "execution_count": 9,
   "metadata": {},
   "outputs": [],
   "source": [
    "current_gram = ' '.join(words[0:n])\n",
    "result = current_gram\n",
    "\n",
    "for i in range(30):\n",
    "    if current_gram not in ngrams.keys():\n",
    "        break\n",
    "    possibilities = ngrams[current_gram]\n",
    "    next_item = possibilities[random.randrange(len(possibilities))]\n",
    "    result += ' ' + next_item\n",
    "    rwords = nltk.word_tokenize(result)\n",
    "    current_gram = ' '.join(rwords[len(rwords)-n:len(words)])"
   ]
  },
  {
   "cell_type": "code",
   "execution_count": 10,
   "metadata": {},
   "outputs": [
    {
     "data": {
      "text/plain": [
       "\"Global warming , also referred to as climate change , is the observed century-scale rise in the average temperature of the Earth 's climate system and its related effects . Multiple lines of\""
      ]
     },
     "execution_count": 10,
     "metadata": {},
     "output_type": "execute_result"
    }
   ],
   "source": [
    "result"
   ]
  }
 ],
 "metadata": {
  "kernelspec": {
   "display_name": "Python 3",
   "language": "python",
   "name": "python3"
  },
  "language_info": {
   "codemirror_mode": {
    "name": "ipython",
    "version": 3
   },
   "file_extension": ".py",
   "mimetype": "text/x-python",
   "name": "python",
   "nbconvert_exporter": "python",
   "pygments_lexer": "ipython3",
   "version": "3.6.5"
  }
 },
 "nbformat": 4,
 "nbformat_minor": 2
}
