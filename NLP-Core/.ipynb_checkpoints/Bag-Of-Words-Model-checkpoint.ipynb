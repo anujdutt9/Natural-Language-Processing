{
 "cells": [
  {
   "cell_type": "code",
   "execution_count": 1,
   "metadata": {},
   "outputs": [],
   "source": [
    "# Import Dependencies\n",
    "import nltk"
   ]
  },
  {
   "cell_type": "code",
   "execution_count": 2,
   "metadata": {},
   "outputs": [],
   "source": [
    "# Sample Text\n",
    "text = \"\"\"If I could be a superhero, just for the day,\n",
    "I would want to be Supergirl, in every way.\n",
    "She’s the young cousin of Superman with long golden locks,\n",
    "But don’t let that fool you because she’s tougher than rocks.\n",
    "\n",
    "Her powers consist of flying with speed,\n",
    "To the moon, around the world or wherever the need.\n",
    "She can hear a pin drop or the beat of a human’s heart,\n",
    "Not to mention the faintest whisper, oh how very smart!\n",
    "\n",
    "In addition to mind control, Supergirl’s vision is x-ray\n",
    "She also has eyes that generate heat without delay.\n",
    "Just like her cousin, she has her weakness too,\n",
    "Kryptonite, oh Kryptonite. There’s only one and not two.\n",
    "\n",
    "So why would I want to be this superhero for the day?\n",
    "Well, that’s easy, I will tell you. So listen to what I say.\n",
    "Bullying has become a major problem everywhere we turn.\n",
    "Our teachers discuss the issue, but there is more that we need to learn.\n",
    "\n",
    "Throughout the school halls and at the lunchroom tables,\n",
    "Students are teased or pushed, and fighting back, well they aren’t able.\n",
    "As Supergirl I would stop all this nonsense,\n",
    "By using my powers to aid in every victim’s defense.\n",
    "\n",
    "Throughout the day, I would listen for the negative chatter\n",
    "And change each bully’s insults to words that matter.\n",
    "Before the first punch is thrown or a foot trips another,\n",
    "I would zap the tormentor’s behind with heat until he calls his mother.\n",
    "\n",
    "It’s too bad I can’t be this superhero for longer,\n",
    "It will take more than a day to help bullied victims to become stronger.\n",
    "The truth is that no one deserves this cruel and hateful treatment\n",
    "Everyone deserves happiness and that should be a unanimous agreement.\"\"\""
   ]
  },
  {
   "cell_type": "code",
   "execution_count": 3,
   "metadata": {},
   "outputs": [],
   "source": [
    "# Sentence Tokenization\n",
    "from nltk.tokenize import sent_tokenize"
   ]
  },
  {
   "cell_type": "code",
   "execution_count": 4,
   "metadata": {},
   "outputs": [],
   "source": [
    "tokenize_sent = sent_tokenize(text)"
   ]
  },
  {
   "cell_type": "code",
   "execution_count": 5,
   "metadata": {},
   "outputs": [
    {
     "data": {
      "text/plain": [
       "['If I could be a superhero, just for the day,\\nI would want to be Supergirl, in every way.',\n",
       " 'She’s the young cousin of Superman with long golden locks,\\nBut don’t let that fool you because she’s tougher than rocks.',\n",
       " 'Her powers consist of flying with speed,\\nTo the moon, around the world or wherever the need.',\n",
       " 'She can hear a pin drop or the beat of a human’s heart,\\nNot to mention the faintest whisper, oh how very smart!',\n",
       " 'In addition to mind control, Supergirl’s vision is x-ray\\nShe also has eyes that generate heat without delay.',\n",
       " 'Just like her cousin, she has her weakness too,\\nKryptonite, oh Kryptonite.',\n",
       " 'There’s only one and not two.',\n",
       " 'So why would I want to be this superhero for the day?',\n",
       " 'Well, that’s easy, I will tell you.',\n",
       " 'So listen to what I say.',\n",
       " 'Bullying has become a major problem everywhere we turn.',\n",
       " 'Our teachers discuss the issue, but there is more that we need to learn.',\n",
       " 'Throughout the school halls and at the lunchroom tables,\\nStudents are teased or pushed, and fighting back, well they aren’t able.',\n",
       " 'As Supergirl I would stop all this nonsense,\\nBy using my powers to aid in every victim’s defense.',\n",
       " 'Throughout the day, I would listen for the negative chatter\\nAnd change each bully’s insults to words that matter.',\n",
       " 'Before the first punch is thrown or a foot trips another,\\nI would zap the tormentor’s behind with heat until he calls his mother.',\n",
       " 'It’s too bad I can’t be this superhero for longer,\\nIt will take more than a day to help bullied victims to become stronger.',\n",
       " 'The truth is that no one deserves this cruel and hateful treatment\\nEveryone deserves happiness and that should be a unanimous agreement.']"
      ]
     },
     "execution_count": 5,
     "metadata": {},
     "output_type": "execute_result"
    }
   ],
   "source": [
    "tokenize_sent"
   ]
  },
  {
   "cell_type": "code",
   "execution_count": 6,
   "metadata": {},
   "outputs": [],
   "source": [
    "import re"
   ]
  },
  {
   "cell_type": "code",
   "execution_count": 7,
   "metadata": {},
   "outputs": [],
   "source": [
    "# Preprocess Sentences\n",
    "for i in range(len(tokenize_sent)-1):\n",
    "    # Convert all words to lowercase\n",
    "    tokenize_sent[i] = tokenize_sent[i].lower()\n",
    "    # Replace all characters (punctuations) with a space\n",
    "    tokenize_sent[i] = re.sub(r'\\W',' ',tokenize_sent[i])\n",
    "    # Remove extra spaces\n",
    "    tokenize_sent[i] = re.sub(r'\\s+',' ', tokenize_sent[i])"
   ]
  },
  {
   "cell_type": "code",
   "execution_count": 8,
   "metadata": {},
   "outputs": [
    {
     "data": {
      "text/plain": [
       "['if i could be a superhero just for the day i would want to be supergirl in every way ',\n",
       " 'she s the young cousin of superman with long golden locks but don t let that fool you because she s tougher than rocks ',\n",
       " 'her powers consist of flying with speed to the moon around the world or wherever the need ',\n",
       " 'she can hear a pin drop or the beat of a human s heart not to mention the faintest whisper oh how very smart ',\n",
       " 'in addition to mind control supergirl s vision is x ray she also has eyes that generate heat without delay ',\n",
       " 'just like her cousin she has her weakness too kryptonite oh kryptonite ',\n",
       " 'there s only one and not two ',\n",
       " 'so why would i want to be this superhero for the day ',\n",
       " 'well that s easy i will tell you ',\n",
       " 'so listen to what i say ',\n",
       " 'bullying has become a major problem everywhere we turn ',\n",
       " 'our teachers discuss the issue but there is more that we need to learn ',\n",
       " 'throughout the school halls and at the lunchroom tables students are teased or pushed and fighting back well they aren t able ',\n",
       " 'as supergirl i would stop all this nonsense by using my powers to aid in every victim s defense ',\n",
       " 'throughout the day i would listen for the negative chatter and change each bully s insults to words that matter ',\n",
       " 'before the first punch is thrown or a foot trips another i would zap the tormentor s behind with heat until he calls his mother ',\n",
       " 'it s too bad i can t be this superhero for longer it will take more than a day to help bullied victims to become stronger ',\n",
       " 'The truth is that no one deserves this cruel and hateful treatment\\nEveryone deserves happiness and that should be a unanimous agreement.']"
      ]
     },
     "execution_count": 8,
     "metadata": {},
     "output_type": "execute_result"
    }
   ],
   "source": [
    "tokenize_sent"
   ]
  },
  {
   "cell_type": "code",
   "execution_count": 9,
   "metadata": {},
   "outputs": [],
   "source": [
    "# Create a Histogram\n",
    "word2count = {}\n",
    "\n",
    "for sent in tokenize_sent:\n",
    "    # Tokenize Sentences into Words\n",
    "    words = nltk.word_tokenize(sent)\n",
    "    for word in words:\n",
    "        # If word not in bow, add it\n",
    "        if word not in word2count.keys():\n",
    "            word2count[word] = 1\n",
    "        # If word present in bow, increment the counter\n",
    "        else:\n",
    "            word2count[word] += 1"
   ]
  },
  {
   "cell_type": "code",
   "execution_count": 10,
   "metadata": {},
   "outputs": [
    {
     "data": {
      "text/plain": [
       "{'if': 1,\n",
       " 'i': 9,\n",
       " 'could': 1,\n",
       " 'be': 5,\n",
       " 'a': 7,\n",
       " 'superhero': 3,\n",
       " 'just': 2,\n",
       " 'for': 4,\n",
       " 'the': 15,\n",
       " 'day': 4,\n",
       " 'would': 5,\n",
       " 'want': 2,\n",
       " 'to': 11,\n",
       " 'supergirl': 3,\n",
       " 'in': 3,\n",
       " 'every': 2,\n",
       " 'way': 1,\n",
       " 'she': 5,\n",
       " 's': 10,\n",
       " 'young': 1,\n",
       " 'cousin': 2,\n",
       " 'of': 3,\n",
       " 'superman': 1,\n",
       " 'with': 3,\n",
       " 'long': 1,\n",
       " 'golden': 1,\n",
       " 'locks': 1,\n",
       " 'but': 2,\n",
       " 'don': 1,\n",
       " 't': 3,\n",
       " 'let': 1,\n",
       " 'that': 7,\n",
       " 'fool': 1,\n",
       " 'you': 2,\n",
       " 'because': 1,\n",
       " 'tougher': 1,\n",
       " 'than': 2,\n",
       " 'rocks': 1,\n",
       " 'her': 3,\n",
       " 'powers': 2,\n",
       " 'consist': 1,\n",
       " 'flying': 1,\n",
       " 'speed': 1,\n",
       " 'moon': 1,\n",
       " 'around': 1,\n",
       " 'world': 1,\n",
       " 'or': 4,\n",
       " 'wherever': 1,\n",
       " 'need': 2,\n",
       " 'can': 2,\n",
       " 'hear': 1,\n",
       " 'pin': 1,\n",
       " 'drop': 1,\n",
       " 'beat': 1,\n",
       " 'human': 1,\n",
       " 'heart': 1,\n",
       " 'not': 2,\n",
       " 'mention': 1,\n",
       " 'faintest': 1,\n",
       " 'whisper': 1,\n",
       " 'oh': 2,\n",
       " 'how': 1,\n",
       " 'very': 1,\n",
       " 'smart': 1,\n",
       " 'addition': 1,\n",
       " 'mind': 1,\n",
       " 'control': 1,\n",
       " 'vision': 1,\n",
       " 'is': 4,\n",
       " 'x': 1,\n",
       " 'ray': 1,\n",
       " 'also': 1,\n",
       " 'has': 3,\n",
       " 'eyes': 1,\n",
       " 'generate': 1,\n",
       " 'heat': 2,\n",
       " 'without': 1,\n",
       " 'delay': 1,\n",
       " 'like': 1,\n",
       " 'weakness': 1,\n",
       " 'too': 2,\n",
       " 'kryptonite': 2,\n",
       " 'there': 2,\n",
       " 'only': 1,\n",
       " 'one': 2,\n",
       " 'and': 6,\n",
       " 'two': 1,\n",
       " 'so': 2,\n",
       " 'why': 1,\n",
       " 'this': 4,\n",
       " 'well': 2,\n",
       " 'easy': 1,\n",
       " 'will': 2,\n",
       " 'tell': 1,\n",
       " 'listen': 2,\n",
       " 'what': 1,\n",
       " 'say': 1,\n",
       " 'bullying': 1,\n",
       " 'become': 2,\n",
       " 'major': 1,\n",
       " 'problem': 1,\n",
       " 'everywhere': 1,\n",
       " 'we': 2,\n",
       " 'turn': 1,\n",
       " 'our': 1,\n",
       " 'teachers': 1,\n",
       " 'discuss': 1,\n",
       " 'issue': 1,\n",
       " 'more': 2,\n",
       " 'learn': 1,\n",
       " 'throughout': 2,\n",
       " 'school': 1,\n",
       " 'halls': 1,\n",
       " 'at': 1,\n",
       " 'lunchroom': 1,\n",
       " 'tables': 1,\n",
       " 'students': 1,\n",
       " 'are': 1,\n",
       " 'teased': 1,\n",
       " 'pushed': 1,\n",
       " 'fighting': 1,\n",
       " 'back': 1,\n",
       " 'they': 1,\n",
       " 'aren': 1,\n",
       " 'able': 1,\n",
       " 'as': 1,\n",
       " 'stop': 1,\n",
       " 'all': 1,\n",
       " 'nonsense': 1,\n",
       " 'by': 1,\n",
       " 'using': 1,\n",
       " 'my': 1,\n",
       " 'aid': 1,\n",
       " 'victim': 1,\n",
       " 'defense': 1,\n",
       " 'negative': 1,\n",
       " 'chatter': 1,\n",
       " 'change': 1,\n",
       " 'each': 1,\n",
       " 'bully': 1,\n",
       " 'insults': 1,\n",
       " 'words': 1,\n",
       " 'matter': 1,\n",
       " 'before': 1,\n",
       " 'first': 1,\n",
       " 'punch': 1,\n",
       " 'thrown': 1,\n",
       " 'foot': 1,\n",
       " 'trips': 1,\n",
       " 'another': 1,\n",
       " 'zap': 1,\n",
       " 'tormentor': 1,\n",
       " 'behind': 1,\n",
       " 'until': 1,\n",
       " 'he': 1,\n",
       " 'calls': 1,\n",
       " 'his': 1,\n",
       " 'mother': 1,\n",
       " 'it': 2,\n",
       " 'bad': 1,\n",
       " 'longer': 1,\n",
       " 'take': 1,\n",
       " 'help': 1,\n",
       " 'bullied': 1,\n",
       " 'victims': 1,\n",
       " 'stronger': 1,\n",
       " 'The': 1,\n",
       " 'truth': 1,\n",
       " 'no': 1,\n",
       " 'deserves': 2,\n",
       " 'cruel': 1,\n",
       " 'hateful': 1,\n",
       " 'treatment': 1,\n",
       " 'Everyone': 1,\n",
       " 'happiness': 1,\n",
       " 'should': 1,\n",
       " 'unanimous': 1,\n",
       " 'agreement': 1,\n",
       " '.': 1}"
      ]
     },
     "execution_count": 10,
     "metadata": {},
     "output_type": "execute_result"
    }
   ],
   "source": [
    "word2count"
   ]
  },
  {
   "cell_type": "code",
   "execution_count": 11,
   "metadata": {},
   "outputs": [
    {
     "data": {
      "text/plain": [
       "dict_keys(['if', 'i', 'could', 'be', 'a', 'superhero', 'just', 'for', 'the', 'day', 'would', 'want', 'to', 'supergirl', 'in', 'every', 'way', 'she', 's', 'young', 'cousin', 'of', 'superman', 'with', 'long', 'golden', 'locks', 'but', 'don', 't', 'let', 'that', 'fool', 'you', 'because', 'tougher', 'than', 'rocks', 'her', 'powers', 'consist', 'flying', 'speed', 'moon', 'around', 'world', 'or', 'wherever', 'need', 'can', 'hear', 'pin', 'drop', 'beat', 'human', 'heart', 'not', 'mention', 'faintest', 'whisper', 'oh', 'how', 'very', 'smart', 'addition', 'mind', 'control', 'vision', 'is', 'x', 'ray', 'also', 'has', 'eyes', 'generate', 'heat', 'without', 'delay', 'like', 'weakness', 'too', 'kryptonite', 'there', 'only', 'one', 'and', 'two', 'so', 'why', 'this', 'well', 'easy', 'will', 'tell', 'listen', 'what', 'say', 'bullying', 'become', 'major', 'problem', 'everywhere', 'we', 'turn', 'our', 'teachers', 'discuss', 'issue', 'more', 'learn', 'throughout', 'school', 'halls', 'at', 'lunchroom', 'tables', 'students', 'are', 'teased', 'pushed', 'fighting', 'back', 'they', 'aren', 'able', 'as', 'stop', 'all', 'nonsense', 'by', 'using', 'my', 'aid', 'victim', 'defense', 'negative', 'chatter', 'change', 'each', 'bully', 'insults', 'words', 'matter', 'before', 'first', 'punch', 'thrown', 'foot', 'trips', 'another', 'zap', 'tormentor', 'behind', 'until', 'he', 'calls', 'his', 'mother', 'it', 'bad', 'longer', 'take', 'help', 'bullied', 'victims', 'stronger', 'The', 'truth', 'no', 'deserves', 'cruel', 'hateful', 'treatment', 'Everyone', 'happiness', 'should', 'unanimous', 'agreement', '.'])"
      ]
     },
     "execution_count": 11,
     "metadata": {},
     "output_type": "execute_result"
    }
   ],
   "source": [
    "word2count.keys()"
   ]
  },
  {
   "cell_type": "code",
   "execution_count": 12,
   "metadata": {},
   "outputs": [
    {
     "data": {
      "text/plain": [
       "dict_values([1, 9, 1, 5, 7, 3, 2, 4, 15, 4, 5, 2, 11, 3, 3, 2, 1, 5, 10, 1, 2, 3, 1, 3, 1, 1, 1, 2, 1, 3, 1, 7, 1, 2, 1, 1, 2, 1, 3, 2, 1, 1, 1, 1, 1, 1, 4, 1, 2, 2, 1, 1, 1, 1, 1, 1, 2, 1, 1, 1, 2, 1, 1, 1, 1, 1, 1, 1, 4, 1, 1, 1, 3, 1, 1, 2, 1, 1, 1, 1, 2, 2, 2, 1, 2, 6, 1, 2, 1, 4, 2, 1, 2, 1, 2, 1, 1, 1, 2, 1, 1, 1, 2, 1, 1, 1, 1, 1, 2, 1, 2, 1, 1, 1, 1, 1, 1, 1, 1, 1, 1, 1, 1, 1, 1, 1, 1, 1, 1, 1, 1, 1, 1, 1, 1, 1, 1, 1, 1, 1, 1, 1, 1, 1, 1, 1, 1, 1, 1, 1, 1, 1, 1, 1, 1, 1, 1, 1, 2, 1, 1, 1, 1, 1, 1, 1, 1, 1, 1, 2, 1, 1, 1, 1, 1, 1, 1, 1, 1])"
      ]
     },
     "execution_count": 12,
     "metadata": {},
     "output_type": "execute_result"
    }
   ],
   "source": [
    "word2count.values()"
   ]
  },
  {
   "cell_type": "code",
   "execution_count": 13,
   "metadata": {},
   "outputs": [],
   "source": [
    "vals = []\n",
    "keys = []\n",
    "for key in word2count.keys():\n",
    "    keys.append(key)\n",
    "    vals.append(word2count.get(key))"
   ]
  },
  {
   "cell_type": "code",
   "execution_count": 14,
   "metadata": {},
   "outputs": [
    {
     "data": {
      "text/plain": [
       "[1,\n",
       " 9,\n",
       " 1,\n",
       " 5,\n",
       " 7,\n",
       " 3,\n",
       " 2,\n",
       " 4,\n",
       " 15,\n",
       " 4,\n",
       " 5,\n",
       " 2,\n",
       " 11,\n",
       " 3,\n",
       " 3,\n",
       " 2,\n",
       " 1,\n",
       " 5,\n",
       " 10,\n",
       " 1,\n",
       " 2,\n",
       " 3,\n",
       " 1,\n",
       " 3,\n",
       " 1,\n",
       " 1,\n",
       " 1,\n",
       " 2,\n",
       " 1,\n",
       " 3,\n",
       " 1,\n",
       " 7,\n",
       " 1,\n",
       " 2,\n",
       " 1,\n",
       " 1,\n",
       " 2,\n",
       " 1,\n",
       " 3,\n",
       " 2,\n",
       " 1,\n",
       " 1,\n",
       " 1,\n",
       " 1,\n",
       " 1,\n",
       " 1,\n",
       " 4,\n",
       " 1,\n",
       " 2,\n",
       " 2,\n",
       " 1,\n",
       " 1,\n",
       " 1,\n",
       " 1,\n",
       " 1,\n",
       " 1,\n",
       " 2,\n",
       " 1,\n",
       " 1,\n",
       " 1,\n",
       " 2,\n",
       " 1,\n",
       " 1,\n",
       " 1,\n",
       " 1,\n",
       " 1,\n",
       " 1,\n",
       " 1,\n",
       " 4,\n",
       " 1,\n",
       " 1,\n",
       " 1,\n",
       " 3,\n",
       " 1,\n",
       " 1,\n",
       " 2,\n",
       " 1,\n",
       " 1,\n",
       " 1,\n",
       " 1,\n",
       " 2,\n",
       " 2,\n",
       " 2,\n",
       " 1,\n",
       " 2,\n",
       " 6,\n",
       " 1,\n",
       " 2,\n",
       " 1,\n",
       " 4,\n",
       " 2,\n",
       " 1,\n",
       " 2,\n",
       " 1,\n",
       " 2,\n",
       " 1,\n",
       " 1,\n",
       " 1,\n",
       " 2,\n",
       " 1,\n",
       " 1,\n",
       " 1,\n",
       " 2,\n",
       " 1,\n",
       " 1,\n",
       " 1,\n",
       " 1,\n",
       " 1,\n",
       " 2,\n",
       " 1,\n",
       " 2,\n",
       " 1,\n",
       " 1,\n",
       " 1,\n",
       " 1,\n",
       " 1,\n",
       " 1,\n",
       " 1,\n",
       " 1,\n",
       " 1,\n",
       " 1,\n",
       " 1,\n",
       " 1,\n",
       " 1,\n",
       " 1,\n",
       " 1,\n",
       " 1,\n",
       " 1,\n",
       " 1,\n",
       " 1,\n",
       " 1,\n",
       " 1,\n",
       " 1,\n",
       " 1,\n",
       " 1,\n",
       " 1,\n",
       " 1,\n",
       " 1,\n",
       " 1,\n",
       " 1,\n",
       " 1,\n",
       " 1,\n",
       " 1,\n",
       " 1,\n",
       " 1,\n",
       " 1,\n",
       " 1,\n",
       " 1,\n",
       " 1,\n",
       " 1,\n",
       " 1,\n",
       " 1,\n",
       " 1,\n",
       " 1,\n",
       " 1,\n",
       " 1,\n",
       " 1,\n",
       " 1,\n",
       " 2,\n",
       " 1,\n",
       " 1,\n",
       " 1,\n",
       " 1,\n",
       " 1,\n",
       " 1,\n",
       " 1,\n",
       " 1,\n",
       " 1,\n",
       " 1,\n",
       " 2,\n",
       " 1,\n",
       " 1,\n",
       " 1,\n",
       " 1,\n",
       " 1,\n",
       " 1,\n",
       " 1,\n",
       " 1,\n",
       " 1]"
      ]
     },
     "execution_count": 14,
     "metadata": {},
     "output_type": "execute_result"
    }
   ],
   "source": [
    "vals"
   ]
  },
  {
   "cell_type": "code",
   "execution_count": 15,
   "metadata": {},
   "outputs": [
    {
     "data": {
      "text/plain": [
       "Text(0.5,1,'Key Value Count Bar Plot')"
      ]
     },
     "execution_count": 15,
     "metadata": {},
     "output_type": "execute_result"
    },
    {
     "data": {
      "image/png": "[encoded data removed]",
      "text/plain": [
       "<Figure size 2160x1440 with 1 Axes>"
      ]
     },
     "metadata": {},
     "output_type": "display_data"
    }
   ],
   "source": [
    "import matplotlib.pyplot as plt\n",
    "%matplotlib inline\n",
    "\n",
    "plt.figure(figsize=(30,20))\n",
    "plt.bar(keys, vals, align='center')\n",
    "plt.xlabel('Keys')\n",
    "plt.ylabel('Values')\n",
    "plt.xticks(rotation=90)\n",
    "plt.title('Key Value Count Bar Plot')"
   ]
  },
  {
   "cell_type": "code",
   "execution_count": 16,
   "metadata": {},
   "outputs": [],
   "source": [
    "# Select Most Frequent N words\n",
    "import heapq"
   ]
  },
  {
   "cell_type": "code",
   "execution_count": 17,
   "metadata": {},
   "outputs": [],
   "source": [
    "# Get top 100 word count key values\n",
    "frequent_words = heapq.nlargest(100, word2count, key=word2count.get)"
   ]
  },
  {
   "cell_type": "code",
   "execution_count": 18,
   "metadata": {},
   "outputs": [
    {
     "data": {
      "text/plain": [
       "['the',\n",
       " 'to',\n",
       " 's',\n",
       " 'i',\n",
       " 'a',\n",
       " 'that',\n",
       " 'and',\n",
       " 'be',\n",
       " 'would',\n",
       " 'she',\n",
       " 'for',\n",
       " 'day',\n",
       " 'or',\n",
       " 'is',\n",
       " 'this',\n",
       " 'superhero',\n",
       " 'supergirl',\n",
       " 'in',\n",
       " 'of',\n",
       " 'with',\n",
       " 't',\n",
       " 'her',\n",
       " 'has',\n",
       " 'just',\n",
       " 'want',\n",
       " 'every',\n",
       " 'cousin',\n",
       " 'but',\n",
       " 'you',\n",
       " 'than',\n",
       " 'powers',\n",
       " 'need',\n",
       " 'can',\n",
       " 'not',\n",
       " 'oh',\n",
       " 'heat',\n",
       " 'too',\n",
       " 'kryptonite',\n",
       " 'there',\n",
       " 'one',\n",
       " 'so',\n",
       " 'well',\n",
       " 'will',\n",
       " 'listen',\n",
       " 'become',\n",
       " 'we',\n",
       " 'more',\n",
       " 'throughout',\n",
       " 'it',\n",
       " 'deserves',\n",
       " 'if',\n",
       " 'could',\n",
       " 'way',\n",
       " 'young',\n",
       " 'superman',\n",
       " 'long',\n",
       " 'golden',\n",
       " 'locks',\n",
       " 'don',\n",
       " 'let',\n",
       " 'fool',\n",
       " 'because',\n",
       " 'tougher',\n",
       " 'rocks',\n",
       " 'consist',\n",
       " 'flying',\n",
       " 'speed',\n",
       " 'moon',\n",
       " 'around',\n",
       " 'world',\n",
       " 'wherever',\n",
       " 'hear',\n",
       " 'pin',\n",
       " 'drop',\n",
       " 'beat',\n",
       " 'human',\n",
       " 'heart',\n",
       " 'mention',\n",
       " 'faintest',\n",
       " 'whisper',\n",
       " 'how',\n",
       " 'very',\n",
       " 'smart',\n",
       " 'addition',\n",
       " 'mind',\n",
       " 'control',\n",
       " 'vision',\n",
       " 'x',\n",
       " 'ray',\n",
       " 'also',\n",
       " 'eyes',\n",
       " 'generate',\n",
       " 'without',\n",
       " 'delay',\n",
       " 'like',\n",
       " 'weakness',\n",
       " 'only',\n",
       " 'two',\n",
       " 'why',\n",
       " 'easy']"
      ]
     },
     "execution_count": 18,
     "metadata": {},
     "output_type": "execute_result"
    }
   ],
   "source": [
    "frequent_words"
   ]
  },
  {
   "cell_type": "code",
   "execution_count": 19,
   "metadata": {},
   "outputs": [],
   "source": [
    "vals = []\n",
    "keys = []\n",
    "for words in frequent_words:\n",
    "    keys.append(words)\n",
    "    vals.append(word2count.get(words))"
   ]
  },
  {
   "cell_type": "code",
   "execution_count": 20,
   "metadata": {},
   "outputs": [
    {
     "data": {
      "text/plain": [
       "Text(0.5,1,'Key Value Count Bar Plot for top 100 words')"
      ]
     },
     "execution_count": 20,
     "metadata": {},
     "output_type": "execute_result"
    },
    {
     "data": {
      "image/png": "[encoded data removed]",
      "text/plain": [
       "<Figure size 2160x1440 with 1 Axes>"
      ]
     },
     "metadata": {},
     "output_type": "display_data"
    }
   ],
   "source": [
    "import matplotlib.pyplot as plt\n",
    "%matplotlib inline\n",
    "\n",
    "plt.figure(figsize=(30,20))\n",
    "plt.bar(keys, vals, align='center')\n",
    "plt.xlabel('Keys')\n",
    "plt.ylabel('Values')\n",
    "plt.xticks(rotation=90)\n",
    "plt.title('Key Value Count Bar Plot for top 100 words')"
   ]
  },
  {
   "cell_type": "code",
   "execution_count": 21,
   "metadata": {},
   "outputs": [],
   "source": [
    "# BOW Model\n",
    "X = []"
   ]
  },
  {
   "cell_type": "code",
   "execution_count": 22,
   "metadata": {},
   "outputs": [],
   "source": [
    "for sent in tokenize_sent:\n",
    "    word_vector = []\n",
    "    for word in frequent_words:\n",
    "        # If word present in frequent word\n",
    "        if word in nltk.word_tokenize(sent):\n",
    "            word_vector.append(1)\n",
    "        else:\n",
    "            word_vector.append(0)\n",
    "    # Append vector for each word in the bow list\n",
    "    X.append(word_vector)"
   ]
  },
  {
   "cell_type": "code",
   "execution_count": 23,
   "metadata": {},
   "outputs": [],
   "source": [
    "import numpy as np\n",
    "\n",
    "X = np.asarray(X)"
   ]
  },
  {
   "cell_type": "code",
   "execution_count": 24,
   "metadata": {},
   "outputs": [
    {
     "data": {
      "text/plain": [
       "(18, 100)"
      ]
     },
     "execution_count": 24,
     "metadata": {},
     "output_type": "execute_result"
    }
   ],
   "source": [
    "X.shape"
   ]
  },
  {
   "cell_type": "code",
   "execution_count": 25,
   "metadata": {},
   "outputs": [],
   "source": [
    "# Show bow values as heatmap\n",
    "import seaborn as sns"
   ]
  },
  {
   "cell_type": "code",
   "execution_count": 26,
   "metadata": {},
   "outputs": [
    {
     "data": {
      "text/plain": [
       "<matplotlib.axes._subplots.AxesSubplot at 0x251c3ef6b00>"
      ]
     },
     "execution_count": 26,
     "metadata": {},
     "output_type": "execute_result"
    },
    {
     "data": {
      "image/png": "[encoded data removed]",
      "text/plain": [
       "<Figure size 1440x720 with 2 Axes>"
      ]
     },
     "metadata": {},
     "output_type": "display_data"
    }
   ],
   "source": [
    "plt.figure(figsize=(20,10))\n",
    "sns.heatmap(X,annot=True, linewidths=0.5, cmap=\"YlGnBu\")"
   ]
  }
 ],
 "metadata": {
  "kernelspec": {
   "display_name": "Python 3",
   "language": "python",
   "name": "python3"
  },
  "language_info": {
   "codemirror_mode": {
    "name": "ipython",
    "version": 3
   },
   "file_extension": ".py",
   "mimetype": "text/x-python",
   "name": "python",
   "nbconvert_exporter": "python",
   "pygments_lexer": "ipython3",
   "version": "3.6.5"
  }
 },
 "nbformat": 4,
 "nbformat_minor": 2
}
