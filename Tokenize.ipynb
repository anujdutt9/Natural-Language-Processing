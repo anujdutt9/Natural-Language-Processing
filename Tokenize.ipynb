{
 "cells": [
  {
   "cell_type": "code",
   "execution_count": 1,
   "metadata": {
    "collapsed": false
   },
   "outputs": [
    {
     "name": "stdout",
     "output_type": "stream",
     "text": [
      "['Hello', 'Mr.', 'Daniel', ',', 'how', 'are', 'you', 'today', '.', 'Hope', 'you', 'are', 'doing', 'good', '!', '!']\n",
      "\n",
      "\n",
      "Hello\n",
      "Mr.\n",
      "Daniel\n",
      ",\n",
      "how\n",
      "are\n",
      "you\n",
      "today\n",
      ".\n",
      "Hope\n",
      "you\n",
      "are\n",
      "doing\n",
      "good\n",
      "!\n",
      "!\n"
     ]
    }
   ],
   "source": [
    "# Tokenize: convert sentence to words\n",
    "# word_tokenize: converts sentence to words\n",
    "# sent_tokenize: tokenizes sentences; creates seperate sentences.\n",
    "# Considers each \"Period\" as seperate word.\n",
    "\n",
    "\n",
    "from nltk.tokenize import word_tokenize, sent_tokenize\n",
    "\n",
    "text = \"Hello Mr. Daniel, how are you today. Hope you are doing good!!\"\n",
    "\n",
    "print(word_tokenize(text))\n",
    "print('\\n')\n",
    "\n",
    "for words in word_tokenize(text):\n",
    "    print(words)\n"
   ]
  },
  {
   "cell_type": "code",
   "execution_count": null,
   "metadata": {
    "collapsed": true
   },
   "outputs": [],
   "source": []
  }
 ],
 "metadata": {
  "kernelspec": {
   "display_name": "Python 3",
   "language": "python",
   "name": "python3"
  },
  "language_info": {
   "codemirror_mode": {
    "name": "ipython",
    "version": 3
   },
   "file_extension": ".py",
   "mimetype": "text/x-python",
   "name": "python",
   "nbconvert_exporter": "python",
   "pygments_lexer": "ipython3",
   "version": "3.5.2"
  }
 },
 "nbformat": 4,
 "nbformat_minor": 1
}
